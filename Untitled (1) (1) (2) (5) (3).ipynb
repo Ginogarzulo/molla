{
 "cells": [
  {
   "cell_type": "code",
   "execution_count": 23,
   "metadata": {},
   "outputs": [],
   "source": [
    "import pandas as pd\n",
    "import matplotlib.pyplot as plt\n",
    "import scipy as sp\n",
    "import numpy as np"
   ]
  },
  {
   "cell_type": "code",
   "execution_count": 24,
   "metadata": {},
   "outputs": [],
   "source": [
    "m=pd.read_csv('masse_cumulative.csv')\n",
    "T10=pd.read_csv('periodi_5_10masse_rip10_periodi40.csv')\n",
    "T40=pd.read_csv('periodi_5_10masse_rip40_periodi10.csv')"
   ]
  },
  {
   "cell_type": "code",
   "execution_count": 25,
   "metadata": {},
   "outputs": [],
   "source": [
    "m_m=m.mean()\n",
    "T10_m=T10.mean()\n",
    "T10_s=T10.std()"
   ]
  },
  {
   "cell_type": "markdown",
   "metadata": {},
   "source": [
    "Metodo 1. caso 10 ripetizioni di 40 oscillazioni"
   ]
  },
  {
   "cell_type": "code",
   "execution_count": 26,
   "metadata": {},
   "outputs": [],
   "source": [
    "T1=T10_m[0]/40\n",
    "m1=m_m[4]\n",
    "m2=m_m[9]\n",
    "T2=T10_m[1]/40\n",
    "T1_s=T10_s[0]/(np.sqrt(10)*40)\n",
    "T2_s=T10_s[1]/(np.sqrt(10)*40)"
   ]
  },
  {
   "cell_type": "code",
   "execution_count": 27,
   "metadata": {},
   "outputs": [],
   "source": [
    "df_T2=abs(-2*T2/pow(pow(T2,2)-pow(T1,2),2))\n",
    "df_T1=abs(2*T1/pow(pow(T2,2)-pow(T1,2),2))\n",
    "cost=4*pow(np.pi,2)*(m2-m1)"
   ]
  },
  {
   "cell_type": "code",
   "execution_count": 28,
   "metadata": {},
   "outputs": [
    {
     "name": "stdout",
     "output_type": "stream",
     "text": [
      "0.037156622911657944\n"
     ]
    }
   ],
   "source": [
    "k_s_10 = cost*np.sqrt(pow(df_T2*T2_s,2)+pow(df_T1*T1_s,2))\n",
    "print(k_s_10)"
   ]
  },
  {
   "cell_type": "markdown",
   "metadata": {},
   "source": [
    "osservazione. k_s in questo caso non dipende dal numero di oscillazioni."
   ]
  },
  {
   "cell_type": "code",
   "execution_count": 16,
   "metadata": {},
   "outputs": [
    {
     "name": "stdout",
     "output_type": "stream",
     "text": [
      "57.24455004226399\n"
     ]
    }
   ],
   "source": [
    "k_m_10 = 4*pow(np.pi,2)*(m2-m1)/(pow(T2,2)-pow(T1,2))\n",
    "print(k_m_10)"
   ]
  },
  {
   "cell_type": "code",
   "execution_count": 17,
   "metadata": {},
   "outputs": [
    {
     "name": "stdout",
     "output_type": "stream",
     "text": [
      "0.40792 0.80313 0.5308625000000001 0.7445600000000001 8.541158521470669e-05 0.00010200762498732512\n"
     ]
    }
   ],
   "source": [
    "print(m1,m2,T1,T2,T1_s,T2_s)"
   ]
  },
  {
   "cell_type": "markdown",
   "metadata": {},
   "source": [
    "caso 40 ripetizioni 10 oscillazioni"
   ]
  },
  {
   "cell_type": "code",
   "execution_count": 18,
   "metadata": {},
   "outputs": [],
   "source": [
    "T40_m=T40.mean()\n",
    "T40_s=T40.std()"
   ]
  },
  {
   "cell_type": "code",
   "execution_count": 19,
   "metadata": {},
   "outputs": [],
   "source": [
    "T14=T40_m[0]/10\n",
    "T24=T40_m[1]/10\n",
    "T14_s=T40_s[0]/(np.sqrt(40)*10)\n",
    "T24_s=T40_s[1]/(np.sqrt(40)*10)"
   ]
  },
  {
   "cell_type": "code",
   "execution_count": 20,
   "metadata": {},
   "outputs": [],
   "source": [
    "df_T24=abs(-2*T24/pow(pow(T24,2)-pow(T14,2),2))\n",
    "df_T14=abs(2*T14/pow(pow(T24,2)-pow(T14,2),2))\n",
    "cost=4*pow(np.pi,2)*(m2-m1)"
   ]
  },
  {
   "cell_type": "code",
   "execution_count": 22,
   "metadata": {},
   "outputs": [
    {
     "name": "stdout",
     "output_type": "stream",
     "text": [
      "0.061474636844865566\n"
     ]
    }
   ],
   "source": [
    "k_s_40 = cost*np.sqrt(pow(df_T24*T24_s,2)+pow(df_T14*T14_s,2))\n",
    "print(k_s_40)"
   ]
  },
  {
   "cell_type": "code",
   "execution_count": 21,
   "metadata": {},
   "outputs": [
    {
     "name": "stdout",
     "output_type": "stream",
     "text": [
      "57.3283682853694\n"
     ]
    }
   ],
   "source": [
    "k_m_40 = 4*pow(np.pi,2)*(m2-m1)/(pow(T24,2)-pow(T14,2))\n",
    "print(k_m_40)"
   ]
  },
  {
   "cell_type": "code",
   "execution_count": null,
   "metadata": {},
   "outputs": [],
   "source": []
  }
 ],
 "metadata": {
  "kernelspec": {
   "display_name": "Python 3",
   "language": "python",
   "name": "python3"
  },
  "language_info": {
   "codemirror_mode": {
    "name": "ipython",
    "version": 3
   },
   "file_extension": ".py",
   "mimetype": "text/x-python",
   "name": "python",
   "nbconvert_exporter": "python",
   "pygments_lexer": "ipython3",
   "version": "3.7.6"
  }
 },
 "nbformat": 4,
 "nbformat_minor": 4
}
